{
 "cells": [
  {
   "cell_type": "code",
   "execution_count": null,
   "id": "2df5df37-9fe2-415d-95be-371c96c5e772",
   "metadata": {},
   "outputs": [],
   "source": [
    "# I'm assuming your current working directory is `doc` but it should be `root`\n",
    "%cd .."
   ]
  },
  {
   "cell_type": "code",
   "execution_count": 2,
   "id": "51bdfb27-2b09-4abd-8482-37c70ff274f6",
   "metadata": {},
   "outputs": [
    {
     "data": {
      "text/plain": [
       "<Thread(http server, started 125046261548736)>"
      ]
     },
     "execution_count": 2,
     "metadata": {},
     "output_type": "execute_result"
    },
    {
     "name": "stderr",
     "output_type": "stream",
     "text": [
      "127.0.0.1 - - [07/Feb/2024 14:16:26] \"GET /tmpswmh82c2.html HTTP/1.1\" 200 -\n",
      "127.0.0.1 - - [07/Feb/2024 14:16:26] \"GET /tmp7bznsj7g.html HTTP/1.1\" 200 -\n",
      "127.0.0.1 - - [07/Feb/2024 14:16:26] code 404, message File not found\n",
      "127.0.0.1 - - [07/Feb/2024 14:16:26] \"GET /_dioxus/hot_reload HTTP/1.1\" 404 -\n",
      "127.0.0.1 - - [07/Feb/2024 14:16:27] code 404, message File not found\n",
      "127.0.0.1 - - [07/Feb/2024 14:16:27] \"GET /_dioxus/hot_reload HTTP/1.1\" 404 -\n"
     ]
    }
   ],
   "source": [
    "import dioxus_widget\n",
    "\n",
    "dioxus_widget.init(\"pkg/jupyter_and_dioxus.js\")"
   ]
  },
  {
   "cell_type": "code",
   "execution_count": 3,
   "id": "28c79a7a-7791-46df-8979-4d0eb9d9122b",
   "metadata": {},
   "outputs": [
    {
     "data": {
      "text/html": [
       "\n",
       "        <iframe\n",
       "            width=\"500\"\n",
       "            height=\"500\"\n",
       "            src=\"http://localhost:8000/tmpswmh82c2.html\"\n",
       "            frameborder=\"0\"\n",
       "            allowfullscreen\n",
       "            \n",
       "        ></iframe>\n",
       "        "
      ],
      "text/plain": [
       "<IPython.lib.display.IFrame at 0x71baa154d650>"
      ]
     },
     "metadata": {},
     "output_type": "display_data"
    }
   ],
   "source": [
    "dioxus_widget.show(\"ce-dioxus\", \"high five count\")"
   ]
  },
  {
   "cell_type": "code",
   "execution_count": 4,
   "id": "639b031e-1b66-46f6-8415-53ce07f6e860",
   "metadata": {},
   "outputs": [
    {
     "data": {
      "text/html": [
       "\n",
       "        <iframe\n",
       "            width=\"500\"\n",
       "            height=\"500\"\n",
       "            src=\"http://localhost:8000/tmp7bznsj7g.html\"\n",
       "            frameborder=\"0\"\n",
       "            allowfullscreen\n",
       "            \n",
       "        ></iframe>\n",
       "        "
      ],
      "text/plain": [
       "<IPython.lib.display.IFrame at 0x71baa154d650>"
      ]
     },
     "metadata": {},
     "output_type": "display_data"
    }
   ],
   "source": [
    "dioxus_widget.show(\"ce-dioxus\", \"another high five counter\")"
   ]
  },
  {
   "cell_type": "code",
   "execution_count": null,
   "id": "14a5aaf4-bf44-4510-92d7-4bfeca5e5bc1",
   "metadata": {},
   "outputs": [],
   "source": []
  }
 ],
 "metadata": {
  "kernelspec": {
   "display_name": "Python 3 (ipykernel)",
   "language": "python",
   "name": "python3"
  },
  "language_info": {
   "codemirror_mode": {
    "name": "ipython",
    "version": 3
   },
   "file_extension": ".py",
   "mimetype": "text/x-python",
   "name": "python",
   "nbconvert_exporter": "python",
   "pygments_lexer": "ipython3",
   "version": "3.11.6"
  }
 },
 "nbformat": 4,
 "nbformat_minor": 5
}
