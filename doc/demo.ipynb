{
 "cells": [
  {
   "cell_type": "code",
   "execution_count": null,
   "id": "8b5f6ee3-f72d-41ae-8f5d-39639e149ed9",
   "metadata": {},
   "outputs": [],
   "source": [
    "%cd ..\n",
    "import dioxus_widget"
   ]
  },
  {
   "cell_type": "code",
   "execution_count": 2,
   "id": "51bdfb27-2b09-4abd-8482-37c70ff274f6",
   "metadata": {},
   "outputs": [
    {
     "data": {
      "text/html": [
       "\n",
       "        <iframe\n",
       "            width=\"500\"\n",
       "            height=\"500\"\n",
       "            src=\"http://localhost:8000/__tmp_dioxus_widget_iframe_get55r31.html\"\n",
       "            frameborder=\"0\"\n",
       "            allowfullscreen\n",
       "            \n",
       "        ></iframe>\n",
       "        "
      ],
      "text/plain": [
       "<IPython.lib.display.IFrame at 0x7141b3512590>"
      ]
     },
     "metadata": {},
     "output_type": "display_data"
    },
    {
     "name": "stderr",
     "output_type": "stream",
     "text": [
      "127.0.0.1 - - [16/Feb/2024 18:13:50] \"GET /__tmp_dioxus_widget_iframe_get55r31.html HTTP/1.1\" 200 -\n",
      "127.0.0.1 - - [16/Feb/2024 18:13:50] \"GET /jupyter_and_dioxus.js HTTP/1.1\" 200 -\n",
      "127.0.0.1 - - [16/Feb/2024 18:13:50] \"GET /snippets/dioxus-interpreter-js-85a0a2f8acce2e86/inline0.js HTTP/1.1\" 200 -\n",
      "127.0.0.1 - - [16/Feb/2024 18:13:50] \"GET /snippets/dioxus-interpreter-js-85a0a2f8acce2e86/src/common.js HTTP/1.1\" 200 -\n",
      "127.0.0.1 - - [16/Feb/2024 18:13:50] \"GET /snippets/dioxus-web-a95d8cc6c91ff8eb/inline0.js HTTP/1.1\" 200 -\n",
      "127.0.0.1 - - [16/Feb/2024 18:13:50] \"GET /snippets/dioxus-web-a95d8cc6c91ff8eb/src/eval.js HTTP/1.1\" 200 -\n",
      "127.0.0.1 - - [16/Feb/2024 18:13:51] \"GET /jupyter_and_dioxus_bg.wasm HTTP/1.1\" 200 -\n",
      "127.0.0.1 - - [16/Feb/2024 18:13:51] \"GET /__tmp_dioxus_widget_iframe_1jq7zw8u.html HTTP/1.1\" 200 -\n",
      "127.0.0.1 - - [16/Feb/2024 18:13:51] code 404, message File not found\n",
      "127.0.0.1 - - [16/Feb/2024 18:13:51] \"GET /_dioxus/hot_reload HTTP/1.1\" 404 -\n",
      "127.0.0.1 - - [16/Feb/2024 18:13:51] \"GET /jupyter_and_dioxus.js HTTP/1.1\" 200 -\n",
      "127.0.0.1 - - [16/Feb/2024 18:13:51] \"GET /snippets/dioxus-interpreter-js-85a0a2f8acce2e86/inline0.js HTTP/1.1\" 200 -\n",
      "127.0.0.1 - - [16/Feb/2024 18:13:51] \"GET /snippets/dioxus-interpreter-js-85a0a2f8acce2e86/src/common.js HTTP/1.1\" 200 -\n",
      "127.0.0.1 - - [16/Feb/2024 18:13:51] \"GET /snippets/dioxus-web-a95d8cc6c91ff8eb/inline0.js HTTP/1.1\" 200 -\n",
      "127.0.0.1 - - [16/Feb/2024 18:13:51] \"GET /snippets/dioxus-web-a95d8cc6c91ff8eb/src/eval.js HTTP/1.1\" 200 -\n",
      "127.0.0.1 - - [16/Feb/2024 18:13:51] \"GET /jupyter_and_dioxus_bg.wasm HTTP/1.1\" 200 -\n",
      "127.0.0.1 - - [16/Feb/2024 18:13:51] code 404, message File not found\n",
      "127.0.0.1 - - [16/Feb/2024 18:13:51] \"GET /_dioxus/hot_reload HTTP/1.1\" 404 -\n",
      "127.0.0.1 - - [16/Feb/2024 18:13:58] \"GET /__tmp_dioxus_widget_iframe_3n0nrfrl.html HTTP/1.1\" 200 -\n",
      "127.0.0.1 - - [16/Feb/2024 18:13:58] \"GET /jupyter_and_dioxus.js HTTP/1.1\" 200 -\n",
      "127.0.0.1 - - [16/Feb/2024 18:13:58] \"GET /snippets/dioxus-interpreter-js-85a0a2f8acce2e86/inline0.js HTTP/1.1\" 200 -\n",
      "127.0.0.1 - - [16/Feb/2024 18:13:58] \"GET /snippets/dioxus-interpreter-js-85a0a2f8acce2e86/src/common.js HTTP/1.1\" 200 -\n",
      "127.0.0.1 - - [16/Feb/2024 18:13:58] \"GET /snippets/dioxus-web-a95d8cc6c91ff8eb/inline0.js HTTP/1.1\" 200 -\n",
      "127.0.0.1 - - [16/Feb/2024 18:13:58] \"GET /snippets/dioxus-web-a95d8cc6c91ff8eb/src/eval.js HTTP/1.1\" 200 -\n",
      "127.0.0.1 - - [16/Feb/2024 18:13:58] \"GET /jupyter_and_dioxus_bg.wasm HTTP/1.1\" 200 -\n",
      "127.0.0.1 - - [16/Feb/2024 18:13:59] code 404, message File not found\n",
      "127.0.0.1 - - [16/Feb/2024 18:13:59] \"GET /_dioxus/hot_reload HTTP/1.1\" 404 -\n"
     ]
    }
   ],
   "source": [
    "dioxus_widget.init(\"pkg/jupyter_and_dioxus.js\", verbose=True)\n",
    "dioxus_widget.show(\"example_app\", \"high five count\")"
   ]
  },
  {
   "cell_type": "code",
   "execution_count": 3,
   "id": "639b031e-1b66-46f6-8415-53ce07f6e860",
   "metadata": {},
   "outputs": [
    {
     "data": {
      "application/vnd.jupyter.widget-view+json": {
       "model_id": "69013598a8504295aeb01df68759981e",
       "version_major": 2,
       "version_minor": 0
      },
      "text/plain": [
       "Button(description='Stop', style=ButtonStyle())"
      ]
     },
     "metadata": {},
     "output_type": "display_data"
    },
    {
     "data": {
      "text/html": [
       "\n",
       "        <iframe\n",
       "            width=\"500\"\n",
       "            height=\"500\"\n",
       "            src=\"http://localhost:8000/__tmp_dioxus_widget_iframe_1jq7zw8u.html\"\n",
       "            frameborder=\"0\"\n",
       "            allowfullscreen\n",
       "            \n",
       "        ></iframe>\n",
       "        "
      ],
      "text/plain": [
       "<IPython.lib.display.IFrame at 0x7141b0052790>"
      ]
     },
     "metadata": {},
     "output_type": "display_data"
    }
   ],
   "source": [
    "dioxus_widget.debug(\"example_app\", \"another high five counter\")"
   ]
  },
  {
   "cell_type": "code",
   "execution_count": 5,
   "id": "14a5aaf4-bf44-4510-92d7-4bfeca5e5bc1",
   "metadata": {},
   "outputs": [],
   "source": [
    "dioxus_widget.clean()"
   ]
  }
 ],
 "metadata": {
  "kernelspec": {
   "display_name": "Python 3 (ipykernel)",
   "language": "python",
   "name": "python3"
  },
  "language_info": {
   "codemirror_mode": {
    "name": "ipython",
    "version": 3
   },
   "file_extension": ".py",
   "mimetype": "text/x-python",
   "name": "python",
   "nbconvert_exporter": "python",
   "pygments_lexer": "ipython3",
   "version": "3.11.7"
  }
 },
 "nbformat": 4,
 "nbformat_minor": 5
}
