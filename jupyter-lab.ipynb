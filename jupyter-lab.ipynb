{
 "cells": [
  {
   "cell_type": "code",
   "execution_count": 4,
   "id": "2df5df37-9fe2-415d-95be-371c96c5e772",
   "metadata": {},
   "outputs": [
    {
     "data": {
      "text/html": [
       "<script defer type=\"module\">\n",
       "      import init, { run, change } from '/files/pkg/jupyter_and_dioxus.js';\n",
       "      window.change = change\n",
       "      async function main() {\n",
       "        await init();\n",
       "        \n",
       "      }\n",
       "      main();\n",
       "</script>\n"
      ],
      "text/plain": [
       "<IPython.core.display.HTML object>"
      ]
     },
     "metadata": {},
     "output_type": "display_data"
    }
   ],
   "source": [
    "%%html\n",
    "<script defer type=\"module\">\n",
    "      import init, { run, change } from '/files/pkg/jupyter_and_dioxus.js';\n",
    "      window.change = change\n",
    "      async function main() {\n",
    "        await init();\n",
    "        \n",
    "      }\n",
    "      main();\n",
    "</script>"
   ]
  },
  {
   "cell_type": "code",
   "execution_count": 5,
   "id": "44e079a5-0a97-4139-9ad3-4678b128470c",
   "metadata": {},
   "outputs": [
    {
     "data": {
      "text/html": [
       "<div id='ha'>wawi</div>\n",
       "<script>window.change('ha')</script>"
      ],
      "text/plain": [
       "<IPython.core.display.HTML object>"
      ]
     },
     "metadata": {},
     "output_type": "display_data"
    }
   ],
   "source": [
    "from IPython.display import HTML\n",
    "\n",
    "display(HTML(\"<div id='ha'>wawi</div>\\n<script>window.change('ha')</script>\"))"
   ]
  },
  {
   "cell_type": "code",
   "execution_count": 6,
   "id": "cf29773b-12c6-4bcb-ad19-2f75b1abf7f2",
   "metadata": {},
   "outputs": [
    {
     "data": {
      "text/html": [
       "<div id='hi'>wawa</div>\n",
       "<script>window.change('hi')</script>"
      ],
      "text/plain": [
       "<IPython.core.display.HTML object>"
      ]
     },
     "metadata": {},
     "output_type": "display_data"
    }
   ],
   "source": [
    "from IPython.display import HTML\n",
    "\n",
    "display(HTML(\"<div id='hi'>wawa</div>\\n<script>window.change('hi')</script>\"))"
   ]
  },
  {
   "cell_type": "code",
   "execution_count": null,
   "id": "4e7ba01b-59d6-403f-978b-3f5ca916f626",
   "metadata": {},
   "outputs": [],
   "source": []
  }
 ],
 "metadata": {
  "kernelspec": {
   "display_name": "Python 3 (ipykernel)",
   "language": "python",
   "name": "python3"
  },
  "language_info": {
   "codemirror_mode": {
    "name": "ipython",
    "version": 3
   },
   "file_extension": ".py",
   "mimetype": "text/x-python",
   "name": "python",
   "nbconvert_exporter": "python",
   "pygments_lexer": "ipython3",
   "version": "3.11.6"
  }
 },
 "nbformat": 4,
 "nbformat_minor": 5
}
