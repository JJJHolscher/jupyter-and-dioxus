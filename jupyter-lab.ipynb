{
 "cells": [
  {
   "cell_type": "code",
   "execution_count": 23,
   "id": "2df5df37-9fe2-415d-95be-371c96c5e772",
   "metadata": {},
   "outputs": [
    {
     "data": {
      "text/html": [
       "<script defer type=\"module\">\n",
       "      import init, { run, change } from '/files/pkg/jupyter_and_dioxus.js';\n",
       "      window.change = change\n",
       "      async function main() {\n",
       "        await init();\n",
       "        run();\n",
       "      }\n",
       "      main();\n",
       "</script>\n"
      ],
      "text/plain": [
       "<IPython.core.display.HTML object>"
      ]
     },
     "metadata": {},
     "output_type": "display_data"
    }
   ],
   "source": [
    "%%html\n",
    "<script defer type=\"module\">\n",
    "      import init, { run, change } from '/files/pkg/jupyter_and_dioxus.js';\n",
    "      window.change = change\n",
    "      async function main() {\n",
    "        await init();\n",
    "        run();\n",
    "      }\n",
    "      main();\n",
    "</script>"
   ]
  },
  {
   "cell_type": "markdown",
   "id": "6e6aa655-a95a-4c45-96c7-72f4923ca17e",
   "metadata": {},
   "source": [
    "<ce-dioxus>hello</ce-dioxus>"
   ]
  },
  {
   "cell_type": "code",
   "execution_count": 2,
   "id": "200395dc-976b-4446-91c0-76cfcb54df2a",
   "metadata": {},
   "outputs": [
    {
     "data": {
      "text/html": [
       "<ce-dioxus>hello</ce-dioxus>\n"
      ],
      "text/plain": [
       "<IPython.core.display.HTML object>"
      ]
     },
     "metadata": {},
     "output_type": "display_data"
    }
   ],
   "source": [
    "%%html\n",
    "<ce-dioxus>hello</ce-dioxus>"
   ]
  },
  {
   "cell_type": "code",
   "execution_count": 22,
   "id": "44e079a5-0a97-4139-9ad3-4678b128470c",
   "metadata": {},
   "outputs": [
    {
     "data": {
      "text/html": [
       "<div id='ha'>wawa</div>\n",
       "<script>window.change('ha')</script>"
      ],
      "text/plain": [
       "<IPython.core.display.HTML object>"
      ]
     },
     "metadata": {},
     "output_type": "display_data"
    }
   ],
   "source": [
    "from IPython.display import HTML\n",
    "\n",
    "display(HTML(\"<div id='ha'>wawa</div>\\n<script>window.change('ha')</script>\"))"
   ]
  },
  {
   "cell_type": "code",
   "execution_count": 25,
   "id": "6366deba-8a80-43a9-ae4a-8a46c3fda001",
   "metadata": {},
   "outputs": [
    {
     "data": {
      "text/html": [
       "<div id='ma'>wewe</div>\n"
      ],
      "text/plain": [
       "<IPython.core.display.HTML object>"
      ]
     },
     "metadata": {},
     "output_type": "display_data"
    }
   ],
   "source": [
    "%%html\n",
    "<div id='ma'>wewe</div>"
   ]
  },
  {
   "cell_type": "code",
   "execution_count": 27,
   "id": "30ee649f-a90e-4999-8344-1e18747a2afe",
   "metadata": {},
   "outputs": [
    {
     "data": {
      "text/html": [
       "<script>window.change('ma')</script>\n"
      ],
      "text/plain": [
       "<IPython.core.display.HTML object>"
      ]
     },
     "metadata": {},
     "output_type": "display_data"
    }
   ],
   "source": [
    "%%html\n",
    "<script>window.change('ma')</script>"
   ]
  }
 ],
 "metadata": {
  "kernelspec": {
   "display_name": "Python 3 (ipykernel)",
   "language": "python",
   "name": "python3"
  },
  "language_info": {
   "codemirror_mode": {
    "name": "ipython",
    "version": 3
   },
   "file_extension": ".py",
   "mimetype": "text/x-python",
   "name": "python",
   "nbconvert_exporter": "python",
   "pygments_lexer": "ipython3",
   "version": "3.11.6"
  }
 },
 "nbformat": 4,
 "nbformat_minor": 5
}
